{
 "cells": [
  {
   "cell_type": "markdown",
   "metadata": {
    "collapsed": true,
    "pycharm": {
     "name": "#%% md\n"
    }
   },
   "source": [
    "## Store Sales - Time Series Forecasting"
   ]
  },
  {
   "cell_type": "code",
   "execution_count": 1,
   "metadata": {
    "collapsed": false,
    "pycharm": {
     "name": "#%%\n"
    }
   },
   "outputs": [],
   "source": [
    "# Import Libraries\n",
    "import pandas as pd\n",
    "import numpy as np\n",
    "import matplotlib.pyplot as plt\n",
    "from feature_engine.encoding import CountFrequencyEncoder\n",
    "\n",
    "# Metrics\n",
    "from sklearn.metrics import mean_squared_error as MSE\n",
    "from sklearn.preprocessing import StandardScaler\n",
    "\n",
    "import tensorflow as tf\n",
    "from tensorflow import keras\n",
    "from tensorflow.keras import layers"
   ]
  },
  {
   "cell_type": "markdown",
   "metadata": {
    "collapsed": false
   },
   "source": [
    "### 1st Part: **EDA**"
   ]
  },
  {
   "cell_type": "code",
   "execution_count": 2,
   "metadata": {
    "collapsed": false,
    "pycharm": {
     "name": "#%%\n"
    }
   },
   "outputs": [],
   "source": [
    "# Paths\n",
    "train_pth = r\"C:\\Users\\willi\\OneDrive\\Documentos\\5. Estudos\\Kaggle_Notebooks\\Store_Sales\\data\\train.csv\"\n",
    "test_pth = r\"C:\\Users\\willi\\OneDrive\\Documentos\\5. Estudos\\Kaggle_Notebooks\\Store_Sales\\data\\test.csv\"\n",
    "stores_pth = r\"C:\\Users\\willi\\OneDrive\\Documentos\\5. Estudos\\Kaggle_Notebooks\\Store_Sales\\data\\stores.csv\"\n",
    "oil_pth = r\"C:\\Users\\willi\\OneDrive\\Documentos\\5. Estudos\\Kaggle_Notebooks\\Store_Sales\\data\\oil.csv\"\n",
    "transactions_pth = r\"C:\\Users\\willi\\OneDrive\\Documentos\\5. Estudos\\Kaggle_Notebooks\\Store_Sales\\data\\transactions.csv\"\n",
    "holidays_events_pth = r\"C:\\Users\\willi\\OneDrive\\Documentos\\5. Estudos\\Kaggle_Notebooks\\Store_Sales\\data\\holidays_events.csv\""
   ]
  },
  {
   "cell_type": "markdown",
   "metadata": {},
   "source": [
    "<p style=\"text-align: justify\"> When we see to this dataset, we see that columns dates are deconfigured. One option to solve this is to focus the feature values ​​around the day of the date column. Let's see how we can do this.</p>"
   ]
  },
  {
   "cell_type": "code",
   "execution_count": 3,
   "metadata": {},
   "outputs": [],
   "source": [
    "# Importing Datasets\n",
    "train = pd.read_csv(train_pth)\n",
    "test = pd.read_csv(test_pth)\n",
    "stores = pd.read_csv(stores_pth)\n",
    "oil = pd.read_csv(oil_pth)\n",
    "events = pd.read_csv(holidays_events_pth, parse_dates=['date'])\n",
    "transactions = pd.read_csv(transactions_pth)"
   ]
  },
  {
   "cell_type": "code",
   "execution_count": 4,
   "metadata": {},
   "outputs": [
    {
     "data": {
      "text/html": [
       "<div>\n",
       "<style scoped>\n",
       "    .dataframe tbody tr th:only-of-type {\n",
       "        vertical-align: middle;\n",
       "    }\n",
       "\n",
       "    .dataframe tbody tr th {\n",
       "        vertical-align: top;\n",
       "    }\n",
       "\n",
       "    .dataframe thead th {\n",
       "        text-align: right;\n",
       "    }\n",
       "</style>\n",
       "<table border=\"1\" class=\"dataframe\">\n",
       "  <thead>\n",
       "    <tr style=\"text-align: right;\">\n",
       "      <th></th>\n",
       "      <th>store_nbr</th>\n",
       "      <th>city</th>\n",
       "      <th>state</th>\n",
       "      <th>type</th>\n",
       "      <th>cluster</th>\n",
       "    </tr>\n",
       "  </thead>\n",
       "  <tbody>\n",
       "    <tr>\n",
       "      <th>0</th>\n",
       "      <td>1</td>\n",
       "      <td>Quito</td>\n",
       "      <td>Pichincha</td>\n",
       "      <td>D</td>\n",
       "      <td>13</td>\n",
       "    </tr>\n",
       "    <tr>\n",
       "      <th>1</th>\n",
       "      <td>2</td>\n",
       "      <td>Quito</td>\n",
       "      <td>Pichincha</td>\n",
       "      <td>D</td>\n",
       "      <td>13</td>\n",
       "    </tr>\n",
       "    <tr>\n",
       "      <th>2</th>\n",
       "      <td>3</td>\n",
       "      <td>Quito</td>\n",
       "      <td>Pichincha</td>\n",
       "      <td>D</td>\n",
       "      <td>8</td>\n",
       "    </tr>\n",
       "    <tr>\n",
       "      <th>3</th>\n",
       "      <td>4</td>\n",
       "      <td>Quito</td>\n",
       "      <td>Pichincha</td>\n",
       "      <td>D</td>\n",
       "      <td>9</td>\n",
       "    </tr>\n",
       "    <tr>\n",
       "      <th>4</th>\n",
       "      <td>5</td>\n",
       "      <td>Santo Domingo</td>\n",
       "      <td>Santo Domingo de los Tsachilas</td>\n",
       "      <td>D</td>\n",
       "      <td>4</td>\n",
       "    </tr>\n",
       "  </tbody>\n",
       "</table>\n",
       "</div>"
      ],
      "text/plain": [
       "   store_nbr           city                           state type  cluster\n",
       "0          1          Quito                       Pichincha    D       13\n",
       "1          2          Quito                       Pichincha    D       13\n",
       "2          3          Quito                       Pichincha    D        8\n",
       "3          4          Quito                       Pichincha    D        9\n",
       "4          5  Santo Domingo  Santo Domingo de los Tsachilas    D        4"
      ]
     },
     "execution_count": 4,
     "metadata": {},
     "output_type": "execute_result"
    }
   ],
   "source": [
    "stores.head()"
   ]
  },
  {
   "cell_type": "code",
   "execution_count": 5,
   "metadata": {},
   "outputs": [
    {
     "data": {
      "text/html": [
       "<div>\n",
       "<style scoped>\n",
       "    .dataframe tbody tr th:only-of-type {\n",
       "        vertical-align: middle;\n",
       "    }\n",
       "\n",
       "    .dataframe tbody tr th {\n",
       "        vertical-align: top;\n",
       "    }\n",
       "\n",
       "    .dataframe thead th {\n",
       "        text-align: right;\n",
       "    }\n",
       "</style>\n",
       "<table border=\"1\" class=\"dataframe\">\n",
       "  <thead>\n",
       "    <tr style=\"text-align: right;\">\n",
       "      <th></th>\n",
       "      <th>id</th>\n",
       "      <th>date</th>\n",
       "      <th>store_nbr</th>\n",
       "      <th>family</th>\n",
       "      <th>sales</th>\n",
       "      <th>onpromotion</th>\n",
       "    </tr>\n",
       "  </thead>\n",
       "  <tbody>\n",
       "    <tr>\n",
       "      <th>0</th>\n",
       "      <td>0</td>\n",
       "      <td>2013-01-01</td>\n",
       "      <td>1</td>\n",
       "      <td>AUTOMOTIVE</td>\n",
       "      <td>0.0</td>\n",
       "      <td>0</td>\n",
       "    </tr>\n",
       "    <tr>\n",
       "      <th>1</th>\n",
       "      <td>1</td>\n",
       "      <td>2013-01-01</td>\n",
       "      <td>1</td>\n",
       "      <td>BABY CARE</td>\n",
       "      <td>0.0</td>\n",
       "      <td>0</td>\n",
       "    </tr>\n",
       "    <tr>\n",
       "      <th>2</th>\n",
       "      <td>2</td>\n",
       "      <td>2013-01-01</td>\n",
       "      <td>1</td>\n",
       "      <td>BEAUTY</td>\n",
       "      <td>0.0</td>\n",
       "      <td>0</td>\n",
       "    </tr>\n",
       "    <tr>\n",
       "      <th>3</th>\n",
       "      <td>3</td>\n",
       "      <td>2013-01-01</td>\n",
       "      <td>1</td>\n",
       "      <td>BEVERAGES</td>\n",
       "      <td>0.0</td>\n",
       "      <td>0</td>\n",
       "    </tr>\n",
       "    <tr>\n",
       "      <th>4</th>\n",
       "      <td>4</td>\n",
       "      <td>2013-01-01</td>\n",
       "      <td>1</td>\n",
       "      <td>BOOKS</td>\n",
       "      <td>0.0</td>\n",
       "      <td>0</td>\n",
       "    </tr>\n",
       "  </tbody>\n",
       "</table>\n",
       "</div>"
      ],
      "text/plain": [
       "   id        date  store_nbr      family  sales  onpromotion\n",
       "0   0  2013-01-01          1  AUTOMOTIVE    0.0            0\n",
       "1   1  2013-01-01          1   BABY CARE    0.0            0\n",
       "2   2  2013-01-01          1      BEAUTY    0.0            0\n",
       "3   3  2013-01-01          1   BEVERAGES    0.0            0\n",
       "4   4  2013-01-01          1       BOOKS    0.0            0"
      ]
     },
     "execution_count": 5,
     "metadata": {},
     "output_type": "execute_result"
    }
   ],
   "source": [
    "train.head()"
   ]
  },
  {
   "cell_type": "code",
   "execution_count": 6,
   "metadata": {},
   "outputs": [],
   "source": [
    "df = pd.merge(train,stores, on='store_nbr')\n",
    "df['date'] = pd.to_datetime(df['date'])\n",
    "\n",
    "transactions_store = transactions.groupby('store_nbr')['transactions'].sum()\n",
    "transactions_date = transactions.groupby('date')['transactions'].sum()\n",
    "\n",
    "# Merge df with events\n",
    "events.reset_index(inplace=True)\n",
    "events['date'] = pd.to_datetime(events['date'])\n",
    "df = pd.merge(df, events, on = 'date', how='outer')\n",
    "\n",
    "# Merge df with oil\n",
    "oil['date'] = pd.to_datetime(oil['date'])\n",
    "df = pd.merge(df, oil, on = 'date',how='outer')\n",
    "\n",
    "# Merge df with Transaction_store and Transactions_date\n",
    "df = pd.merge(df, transactions_store, on='store_nbr',how = 'outer')\n",
    "transactions_date = pd.DataFrame(transactions_date).reset_index()\n",
    "transactions_date['date'] = pd.to_datetime(transactions_date['date'])\n",
    "df = pd.merge(df, transactions_date, on='date', how='outer')\n",
    "\n",
    "df.dropna(subset='id', inplace=True)"
   ]
  },
  {
   "cell_type": "code",
   "execution_count": 7,
   "metadata": {},
   "outputs": [
    {
     "data": {
      "image/png": "[encoded data removed]",
      "text/plain": [
       "<Figure size 1080x360 with 2 Axes>"
      ]
     },
     "metadata": {
      "needs_background": "light"
     },
     "output_type": "display_data"
    },
    {
     "name": "stdout",
     "output_type": "stream",
     "text": [
      "Total de Vendas no Período de Terremotos (TOTAL): 32,106,103.000000\n",
      "Total de Vendas no Período de Terremotos : 27,339,491.000000\n"
     ]
    }
   ],
   "source": [
    "df_terremoto = df[df['description'].str.contains('Terremoto', na = False)]\n",
    "max = df_terremoto['date'].max()\n",
    "min = df_terremoto['date'].min()\n",
    "\n",
    "selecao = (df['date'] >= min) & (df['date'] <= max)\n",
    "df_filte = df[selecao]\n",
    "\n",
    "fig, ax = plt.subplots(1,2, figsize=(15,5))\n",
    "\n",
    "ax[0].plot(df_filte['sales'])\n",
    "ax[0].set_title('Gráfico do Período dos Terremoto  - Total')\n",
    "ax[1].plot(df_terremoto['sales'])\n",
    "ax[1].set_title('Gráfico de Vendas nos dias com a Palavra Terremoto')\n",
    "plt.show()\n",
    "soma_fil = round(df_filte['sales'].sum(),0)\n",
    "print(f\"Total de Vendas no Período de Terremotos (TOTAL): {soma_fil:2,f}\")\n",
    "\n",
    "soma_terr = round(df_terremoto['sales'].sum(),0)\n",
    "print(f\"Total de Vendas no Período de Terremotos : {soma_terr:2,f}\")\n",
    "\n",
    "# Impactou muito!!!"
   ]
  },
  {
   "cell_type": "code",
   "execution_count": 8,
   "metadata": {},
   "outputs": [],
   "source": [
    "df_cat_col = [c for c in df.columns if df[c].dtypes=='O'] # Separating Categoricals Columns\n",
    "df.fillna(0, inplace=True)\n",
    "df = CountFrequencyEncoder(variables=df_cat_col).fit_transform(df)\n"
   ]
  },
  {
   "cell_type": "code",
   "execution_count": 9,
   "metadata": {},
   "outputs": [
    {
     "name": "stdout",
     "output_type": "stream",
     "text": [
      "DataFrame has 3,054,348 lines.\n"
     ]
    }
   ],
   "source": [
    "# Total Lines\n",
    "lines = df.shape[0]\n",
    "print(f'DataFrame has {lines:1,d} lines.')\n",
    "\n",
    "# Separating Features and Target\n",
    "X = df.drop(labels=['sales'], axis=1)\n",
    "y = df['sales']\n",
    "\n",
    "# Train - Test values\n",
    "train_values = int(lines * 0.7)\n",
    "\n",
    "X_train = X[:train_values]\n",
    "y_train = X[train_values:]\n",
    "\n",
    "X_test = y[:train_values]\n",
    "y_test = y[train_values:]"
   ]
  },
  {
   "cell_type": "code",
   "execution_count": 10,
   "metadata": {},
   "outputs": [],
   "source": [
    "dataset = tf.data.Dataset.from_tensor_slices((X_train.drop('date', axis=1).values, X_test.values))"
   ]
  },
  {
   "cell_type": "code",
   "execution_count": 11,
   "metadata": {},
   "outputs": [
    {
     "name": "stdout",
     "output_type": "stream",
     "text": [
      "Epoch 1/15\n",
      "2139/2139 [==============================] - 12s 4ms/step - loss: 1015791936.0000 - mae: 16751.7480 - mse: 1015791936.0000\n",
      "Epoch 2/15\n",
      "2139/2139 [==============================] - 11s 4ms/step - loss: 1006539.6875 - mae: 402.5288 - mse: 1006539.6875\n",
      "Epoch 3/15\n",
      "2139/2139 [==============================] - 11s 4ms/step - loss: 952553.9375 - mae: 405.6093 - mse: 952553.9375\n",
      "Epoch 4/15\n",
      "2139/2139 [==============================] - 11s 4ms/step - loss: 968550.2500 - mae: 411.6862 - mse: 968550.2500\n",
      "Epoch 5/15\n",
      "2139/2139 [==============================] - 11s 4ms/step - loss: 986737.5000 - mae: 432.2040 - mse: 986737.5000\n",
      "Epoch 6/15\n",
      "2139/2139 [==============================] - 11s 4ms/step - loss: 978919.2500 - mae: 448.5675 - mse: 978919.2500\n",
      "Epoch 7/15\n",
      "2139/2139 [==============================] - 11s 4ms/step - loss: 1303147.5000 - mae: 464.0604 - mse: 1303147.5000\n",
      "Epoch 8/15\n",
      "2139/2139 [==============================] - 11s 4ms/step - loss: 1281318.5000 - mae: 464.1364 - mse: 1281318.5000\n",
      "Epoch 9/15\n",
      "2139/2139 [==============================] - 11s 4ms/step - loss: 1170704.2500 - mae: 459.5410 - mse: 1170704.2500\n",
      "Epoch 10/15\n",
      "2139/2139 [==============================] - 11s 4ms/step - loss: 988170.6250 - mae: 452.9391 - mse: 988170.6250\n",
      "Epoch 11/15\n",
      "2139/2139 [==============================] - 11s 4ms/step - loss: 981206.0000 - mae: 450.9781 - mse: 981206.0000\n",
      "Epoch 12/15\n",
      "2139/2139 [==============================] - 12s 5ms/step - loss: 977688.6250 - mae: 457.5275 - mse: 977688.6250\n",
      "Epoch 13/15\n",
      "2139/2139 [==============================] - 12s 5ms/step - loss: 977981.3750 - mae: 451.2376 - mse: 977981.3750\n",
      "Epoch 14/15\n",
      "2139/2139 [==============================] - 12s 5ms/step - loss: 976260.9375 - mae: 451.1668 - mse: 976260.9375\n",
      "Epoch 15/15\n",
      "2139/2139 [==============================] - 12s 5ms/step - loss: 971146.3750 - mae: 453.8167 - mse: 971146.3125\n"
     ]
    },
    {
     "data": {
      "text/plain": [
       "<keras.callbacks.History at 0x2ea0ff9adf0>"
      ]
     },
     "execution_count": 11,
     "metadata": {},
     "output_type": "execute_result"
    }
   ],
   "source": [
    "train_dataset = dataset.shuffle(len(df)).batch(1000)\n",
    "\n",
    "def get_compiled_model():\n",
    "  model = tf.keras.Sequential([\n",
    "    tf.keras.layers.Dense(64, activation='relu'),\n",
    "    tf.keras.layers.Dense(64, activation='relu'),\n",
    "    tf.keras.layers.Dense(1)\n",
    "  ])\n",
    "\n",
    "  optimizer = tf.keras.optimizers.RMSprop(0.001)\n",
    "\n",
    "  model.compile(loss='mse',\n",
    "                optimizer=optimizer,\n",
    "                metrics=['mae', 'mse'])\n",
    "  return model\n",
    "\n",
    "model = get_compiled_model()\n",
    "\n",
    "model.fit(train_dataset, epochs=15)"
   ]
  },
  {
   "cell_type": "code",
   "execution_count": null,
   "metadata": {},
   "outputs": [],
   "source": []
  }
 ],
 "metadata": {
  "kernelspec": {
   "display_name": "Python 3",
   "language": "python",
   "name": "python3"
  },
  "language_info": {
   "codemirror_mode": {
    "name": "ipython",
    "version": 3
   },
   "file_extension": ".py",
   "mimetype": "text/x-python",
   "name": "python",
   "nbconvert_exporter": "python",
   "pygments_lexer": "ipython3",
   "version": "3.9.5"
  }
 },
 "nbformat": 4,
 "nbformat_minor": 0
}
