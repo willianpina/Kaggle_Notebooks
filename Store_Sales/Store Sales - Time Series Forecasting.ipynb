{
 "cells": [
  {
   "cell_type": "markdown",
   "metadata": {
    "collapsed": true,
    "pycharm": {
     "name": "#%% md\n"
    }
   },
   "source": [
    "## Store Sales - Time Series Forecasting"
   ]
  },
  {
   "cell_type": "markdown",
   "metadata": {
    "collapsed": false
   },
   "source": [
    "### **Descriptions**\n",
    "\n",
    "**train.csv:**\n",
    "* store_nbr =  identifies the store at which the products are sold.\n",
    "* family =  identifies the type of product sold.\n",
    "* sales = total sales for a product family at a particular store at a given date. Fractional values are possible since products can be sold in fractional units (1.5 kg of cheese, for instance, as opposed to 1 bag of chips).\n",
    "* onpromotion = the total number of items in a product family that were being promoted at a store at a given date.\n",
    "\n",
    "**test.csv:**\n",
    "* Same features as the training data. The target sales for the dates in this files.\n",
    "* The dates in the test are for the 15 days after the last date in the training data.\n",
    "\n",
    "**stores.csv**\n",
    "\n",
    "* Store metadata: city, state, type and cluster.\n",
    "* Cluster is a grouping of similar stores.\n",
    "\n",
    "**oil.csv**\n",
    "\n",
    "* Daily oil price. Include values during both the train and test data timeframes.\n",
    "* Ecuador is an oil-dependent country and it´s economical health is highly bulnerable to shocks in oil prices.\n",
    "\n",
    "\n",
    "**Holidays_events.csv**\n",
    "\n",
    "* Holidays and events, with metadata.\n",
    "* Transferred column: A transferred day is more like a normal day than a holiday.\n",
    "\n",
    "**Additional Notes**\n",
    "* Wages in the public sector are paid every two weeks on the 15 th and on the last day of the month. Supermarket sales could be affected by this. (Seasonality?)\n",
    "* A magnitude 7.8 earthquake struck Ecuador on `April 16, 2016`. People rallied in relief efforts donating water and other first need products which greatly affected supermarket sales for several weeks after the earthquake."
   ]
  },
  {
   "cell_type": "code",
   "execution_count": 2,
   "metadata": {
    "collapsed": false,
    "pycharm": {
     "name": "#%%\n"
    }
   },
   "outputs": [],
   "source": [
    "# Import Libraries\n",
    "import pandas as pd\n",
    "import numpy as np\n",
    "import matplotlib.pyplot as plt"
   ]
  },
  {
   "cell_type": "markdown",
   "metadata": {
    "collapsed": false
   },
   "source": [
    "### 1st Part: **EDA**"
   ]
  },
  {
   "cell_type": "code",
   "execution_count": 3,
   "metadata": {
    "collapsed": false,
    "pycharm": {
     "name": "#%%\n"
    }
   },
   "outputs": [],
   "source": [
    "# Paths\n",
    "train_pth = r\"C:\\Users\\willi\\OneDrive\\Documentos\\5. Estudos\\Kaggle_Notebooks\\Store_Sales\\data\\train.csv\"\n",
    "test_pth = r\"C:\\Users\\willi\\OneDrive\\Documentos\\5. Estudos\\Kaggle_Notebooks\\Store_Sales\\data\\test.csv\"\n",
    "stores_pth = r\"C:\\Users\\willi\\OneDrive\\Documentos\\5. Estudos\\Kaggle_Notebooks\\Store_Sales\\data\\stores.csv\"\n",
    "oil_pth = r\"C:\\Users\\willi\\OneDrive\\Documentos\\5. Estudos\\Kaggle_Notebooks\\Store_Sales\\data\\oil.csv\"\n",
    "transactions_pth = r\"C:\\Users\\willi\\OneDrive\\Documentos\\5. Estudos\\Kaggle_Notebooks\\Store_Sales\\data\\transactions.csv\"\n",
    "holidays_events_pth = r\"C:\\Users\\willi\\OneDrive\\Documentos\\5. Estudos\\Kaggle_Notebooks\\Store_Sales\\data\\holidays_events.csv\""
   ]
  },
  {
   "cell_type": "code",
   "execution_count": 82,
   "metadata": {
    "collapsed": false,
    "pycharm": {
     "name": "#%%\n"
    }
   },
   "outputs": [],
   "source": [
    "# Datasets\n",
    "train = pd.read_csv(train_pth)\n",
    "stores = pd.read_csv(stores_pth)\n",
    "oil = pd.read_csv(oil_pth)\n",
    "events = pd.read_csv(holidays_events_pth)\n",
    "transactions = pd.read_csv(transactions_pth)\n",
    "\n",
    "# Merge train -  stores - transactions\n",
    "df = pd.merge(train,stores,on='store_nbr')\n",
    "df = pd.merge_ordered(df, transactions, on=['date', 'store_nbr'])\n",
    "\n",
    "# Merge DataFrame - Events\n",
    "df = pd.merge(df, events, on=['date'], how='outer')\n",
    "\n",
    "# Merge Dataframe - Oil\n",
    "df = pd.merge(df, oil, on=['date'], how='outer')\n",
    "\n",
    "df.drop('id', axis=1, inplace=True)\n",
    "\n",
    "# Filling NaN with zeros\n",
    "df.fillna(0, inplace=True)\n",
    "\n",
    "# Rename Columns\n",
    "df.rename(columns={'type_x':'type_store', 'type_y':'type_day'}, inplace=True)\n",
    "\n",
    "# Extracting Days of Week\n",
    "df['date'] = pd.to_datetime(df['date'])\n",
    "df['day_week_name'] = df['date'].dt.dayofweek\n",
    "df['is_weekend'] = np.where(df['day_week_name'].isin([6,5]), 1, 0)\n",
    "\n",
    "# Create a Data Index\n",
    "df.set_index('date', inplace=True)\n",
    "\n",
    "# Drop zeros in Sales Columns\n",
    "df = df[df['sales'] != 0]"
   ]
  },
  {
   "cell_type": "code",
   "execution_count": 83,
   "outputs": [
    {
     "data": {
      "text/plain": "            store_nbr        family    sales  onpromotion     city  \\\ndate                                                                 \n2013-01-01       25.0        BEAUTY    2.000          0.0  Salinas   \n2013-01-01       25.0     BEVERAGES  810.000          0.0  Salinas   \n2013-01-01       25.0  BREAD/BAKERY  180.589          0.0  Salinas   \n2013-01-01       25.0      CLEANING  186.000          0.0  Salinas   \n2013-01-01       25.0         DAIRY  143.000          0.0  Salinas   \n\n                  state type_store  cluster  transactions type_day    locale  \\\ndate                                                                           \n2013-01-01  Santa Elena          D      1.0         770.0  Holiday  National   \n2013-01-01  Santa Elena          D      1.0         770.0  Holiday  National   \n2013-01-01  Santa Elena          D      1.0         770.0  Holiday  National   \n2013-01-01  Santa Elena          D      1.0         770.0  Holiday  National   \n2013-01-01  Santa Elena          D      1.0         770.0  Holiday  National   \n\n           locale_name         description transferred  dcoilwtico  \\\ndate                                                                 \n2013-01-01     Ecuador  Primer dia del ano       False         0.0   \n2013-01-01     Ecuador  Primer dia del ano       False         0.0   \n2013-01-01     Ecuador  Primer dia del ano       False         0.0   \n2013-01-01     Ecuador  Primer dia del ano       False         0.0   \n2013-01-01     Ecuador  Primer dia del ano       False         0.0   \n\n            day_week_name  is_weekend  \ndate                                   \n2013-01-01              1           0  \n2013-01-01              1           0  \n2013-01-01              1           0  \n2013-01-01              1           0  \n2013-01-01              1           0  ",
      "text/html": "<div>\n<style scoped>\n    .dataframe tbody tr th:only-of-type {\n        vertical-align: middle;\n    }\n\n    .dataframe tbody tr th {\n        vertical-align: top;\n    }\n\n    .dataframe thead th {\n        text-align: right;\n    }\n</style>\n<table border=\"1\" class=\"dataframe\">\n  <thead>\n    <tr style=\"text-align: right;\">\n      <th></th>\n      <th>store_nbr</th>\n      <th>family</th>\n      <th>sales</th>\n      <th>onpromotion</th>\n      <th>city</th>\n      <th>state</th>\n      <th>type_store</th>\n      <th>cluster</th>\n      <th>transactions</th>\n      <th>type_day</th>\n      <th>locale</th>\n      <th>locale_name</th>\n      <th>description</th>\n      <th>transferred</th>\n      <th>dcoilwtico</th>\n      <th>day_week_name</th>\n      <th>is_weekend</th>\n    </tr>\n    <tr>\n      <th>date</th>\n      <th></th>\n      <th></th>\n      <th></th>\n      <th></th>\n      <th></th>\n      <th></th>\n      <th></th>\n      <th></th>\n      <th></th>\n      <th></th>\n      <th></th>\n      <th></th>\n      <th></th>\n      <th></th>\n      <th></th>\n      <th></th>\n      <th></th>\n    </tr>\n  </thead>\n  <tbody>\n    <tr>\n      <th>2013-01-01</th>\n      <td>25.0</td>\n      <td>BEAUTY</td>\n      <td>2.000</td>\n      <td>0.0</td>\n      <td>Salinas</td>\n      <td>Santa Elena</td>\n      <td>D</td>\n      <td>1.0</td>\n      <td>770.0</td>\n      <td>Holiday</td>\n      <td>National</td>\n      <td>Ecuador</td>\n      <td>Primer dia del ano</td>\n      <td>False</td>\n      <td>0.0</td>\n      <td>1</td>\n      <td>0</td>\n    </tr>\n    <tr>\n      <th>2013-01-01</th>\n      <td>25.0</td>\n      <td>BEVERAGES</td>\n      <td>810.000</td>\n      <td>0.0</td>\n      <td>Salinas</td>\n      <td>Santa Elena</td>\n      <td>D</td>\n      <td>1.0</td>\n      <td>770.0</td>\n      <td>Holiday</td>\n      <td>National</td>\n      <td>Ecuador</td>\n      <td>Primer dia del ano</td>\n      <td>False</td>\n      <td>0.0</td>\n      <td>1</td>\n      <td>0</td>\n    </tr>\n    <tr>\n      <th>2013-01-01</th>\n      <td>25.0</td>\n      <td>BREAD/BAKERY</td>\n      <td>180.589</td>\n      <td>0.0</td>\n      <td>Salinas</td>\n      <td>Santa Elena</td>\n      <td>D</td>\n      <td>1.0</td>\n      <td>770.0</td>\n      <td>Holiday</td>\n      <td>National</td>\n      <td>Ecuador</td>\n      <td>Primer dia del ano</td>\n      <td>False</td>\n      <td>0.0</td>\n      <td>1</td>\n      <td>0</td>\n    </tr>\n    <tr>\n      <th>2013-01-01</th>\n      <td>25.0</td>\n      <td>CLEANING</td>\n      <td>186.000</td>\n      <td>0.0</td>\n      <td>Salinas</td>\n      <td>Santa Elena</td>\n      <td>D</td>\n      <td>1.0</td>\n      <td>770.0</td>\n      <td>Holiday</td>\n      <td>National</td>\n      <td>Ecuador</td>\n      <td>Primer dia del ano</td>\n      <td>False</td>\n      <td>0.0</td>\n      <td>1</td>\n      <td>0</td>\n    </tr>\n    <tr>\n      <th>2013-01-01</th>\n      <td>25.0</td>\n      <td>DAIRY</td>\n      <td>143.000</td>\n      <td>0.0</td>\n      <td>Salinas</td>\n      <td>Santa Elena</td>\n      <td>D</td>\n      <td>1.0</td>\n      <td>770.0</td>\n      <td>Holiday</td>\n      <td>National</td>\n      <td>Ecuador</td>\n      <td>Primer dia del ano</td>\n      <td>False</td>\n      <td>0.0</td>\n      <td>1</td>\n      <td>0</td>\n    </tr>\n  </tbody>\n</table>\n</div>"
     },
     "execution_count": 83,
     "metadata": {},
     "output_type": "execute_result"
    }
   ],
   "source": [
    "df.head()\n",
    "\n"
   ],
   "metadata": {
    "collapsed": false,
    "pycharm": {
     "name": "#%%\n"
    }
   }
  },
  {
   "cell_type": "code",
   "execution_count": 86,
   "outputs": [
    {
     "data": {
      "text/plain": "<AxesSubplot:xlabel='date'>"
     },
     "execution_count": 86,
     "metadata": {},
     "output_type": "execute_result"
    },
    {
     "data": {
      "text/plain": "<Figure size 432x288 with 1 Axes>",
      "image/png": "[encoded data removed]"
     },
     "metadata": {
      "needs_background": "light"
     },
     "output_type": "display_data"
    }
   ],
   "source": [
    "df.sales.plot()"
   ],
   "metadata": {
    "collapsed": false,
    "pycharm": {
     "name": "#%%\n"
    }
   }
  },
  {
   "cell_type": "code",
   "execution_count": 62,
   "outputs": [
    {
     "data": {
      "text/plain": "            date  dcoilwtico\n0     2013-01-01         NaN\n1     2013-01-02       93.14\n2     2013-01-03       92.97\n3     2013-01-04       93.12\n4     2013-01-07       93.20\n...          ...         ...\n1213  2017-08-25       47.65\n1214  2017-08-28       46.40\n1215  2017-08-29       46.46\n1216  2017-08-30       45.96\n1217  2017-08-31       47.26\n\n[1218 rows x 2 columns]",
      "text/html": "<div>\n<style scoped>\n    .dataframe tbody tr th:only-of-type {\n        vertical-align: middle;\n    }\n\n    .dataframe tbody tr th {\n        vertical-align: top;\n    }\n\n    .dataframe thead th {\n        text-align: right;\n    }\n</style>\n<table border=\"1\" class=\"dataframe\">\n  <thead>\n    <tr style=\"text-align: right;\">\n      <th></th>\n      <th>date</th>\n      <th>dcoilwtico</th>\n    </tr>\n  </thead>\n  <tbody>\n    <tr>\n      <th>0</th>\n      <td>2013-01-01</td>\n      <td>NaN</td>\n    </tr>\n    <tr>\n      <th>1</th>\n      <td>2013-01-02</td>\n      <td>93.14</td>\n    </tr>\n    <tr>\n      <th>2</th>\n      <td>2013-01-03</td>\n      <td>92.97</td>\n    </tr>\n    <tr>\n      <th>3</th>\n      <td>2013-01-04</td>\n      <td>93.12</td>\n    </tr>\n    <tr>\n      <th>4</th>\n      <td>2013-01-07</td>\n      <td>93.20</td>\n    </tr>\n    <tr>\n      <th>...</th>\n      <td>...</td>\n      <td>...</td>\n    </tr>\n    <tr>\n      <th>1213</th>\n      <td>2017-08-25</td>\n      <td>47.65</td>\n    </tr>\n    <tr>\n      <th>1214</th>\n      <td>2017-08-28</td>\n      <td>46.40</td>\n    </tr>\n    <tr>\n      <th>1215</th>\n      <td>2017-08-29</td>\n      <td>46.46</td>\n    </tr>\n    <tr>\n      <th>1216</th>\n      <td>2017-08-30</td>\n      <td>45.96</td>\n    </tr>\n    <tr>\n      <th>1217</th>\n      <td>2017-08-31</td>\n      <td>47.26</td>\n    </tr>\n  </tbody>\n</table>\n<p>1218 rows × 2 columns</p>\n</div>"
     },
     "execution_count": 62,
     "metadata": {},
     "output_type": "execute_result"
    }
   ],
   "source": [
    "oil"
   ],
   "metadata": {
    "collapsed": false,
    "pycharm": {
     "name": "#%%\n"
    }
   }
  }
 ],
 "metadata": {
  "kernelspec": {
   "display_name": "Python 3",
   "language": "python",
   "name": "python3"
  },
  "language_info": {
   "codemirror_mode": {
    "name": "ipython",
    "version": 3
   },
   "file_extension": ".py",
   "mimetype": "text/x-python",
   "name": "python",
   "nbconvert_exporter": "python",
   "pygments_lexer": "ipython3",
   "version": "3.9.5"
  }
 },
 "nbformat": 4,
 "nbformat_minor": 0
}