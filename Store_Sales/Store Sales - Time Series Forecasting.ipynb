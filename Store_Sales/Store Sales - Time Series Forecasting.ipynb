{
 "cells": [
  {
   "cell_type": "markdown",
   "metadata": {
    "collapsed": true,
    "pycharm": {
     "name": "#%% md\n"
    }
   },
   "source": [
    "## Store Sales - Time Series Forecasting"
   ]
  },
  {
   "cell_type": "markdown",
   "metadata": {
    "collapsed": false
   },
   "source": [
    "### **Descriptions**\n",
    "\n",
    "**train.csv:**\n",
    "* store_nbr =  identifies the store at which the products are sold.\n",
    "* family =  identifies the type of product sold.\n",
    "* sales = total sales for a product family at a particular store at a given date. Fractional values are possible since products can be sold in fractional units (1.5 kg of cheese, for instance, as opposed to 1 bag of chips).\n",
    "* onpromotion = the total number of items in a product family that were being promoted at a store at a given date.\n",
    "\n",
    "**test.csv:**\n",
    "* Same features as the training data. The target sales for the dates in this files.\n",
    "* The dates in the test are for the 15 days after the last date in the training data.\n",
    "\n",
    "**stores.csv**\n",
    "\n",
    "* Store metadata: city, state, type and cluster.\n",
    "* Cluster is a grouping of similar stores.\n",
    "\n",
    "**oil.csv**\n",
    "\n",
    "* Daily oil price. Include values during both the train and test data timeframes.\n",
    "* Ecuador is an oil-dependent country and it´s economical health is highly bulnerable to shocks in oil prices.\n",
    "\n",
    "\n",
    "**Holidays_events.csv**\n",
    "\n",
    "* Holidays and events, with metadata.\n",
    "* Transferred column: A transferred day is more like a normal day than a holiday.\n",
    "\n",
    "**Additional Notes**\n",
    "* Wages in the public sector are paid every two weeks on the 15 th and on the last day of the month. Supermarket sales could be affected by this. (Seasonality?)\n",
    "* A magnitude 7.8 earthquake struck Ecuador on `April 16, 2016`. People rallied in relief efforts donating water and other first need products which greatly affected supermarket sales for several weeks after the earthquake."
   ]
  },
  {
   "cell_type": "code",
   "execution_count": 36,
   "metadata": {
    "collapsed": false,
    "pycharm": {
     "name": "#%%\n"
    }
   },
   "outputs": [],
   "source": [
    "# Import Libraries\n",
    "import pandas as pd\n",
    "import numpy as np\n",
    "import matplotlib.pyplot as plt"
   ]
  },
  {
   "cell_type": "markdown",
   "metadata": {
    "collapsed": false
   },
   "source": [
    "### 1st Part: **EDA**"
   ]
  },
  {
   "cell_type": "code",
   "execution_count": 5,
   "metadata": {
    "collapsed": false,
    "pycharm": {
     "name": "#%%\n"
    }
   },
   "outputs": [],
   "source": [
    "# Paths\n",
    "train_pth = r\"C:\\Users\\willi\\OneDrive\\Documentos\\5. Estudos\\Kaggle_Notebooks\\Store_Sales\\data\\train.csv\"\n",
    "test_pth = r\"C:\\Users\\willi\\OneDrive\\Documentos\\5. Estudos\\Kaggle_Notebooks\\Store_Sales\\data\\test.csv\"\n",
    "stores_pth = r\"C:\\Users\\willi\\OneDrive\\Documentos\\5. Estudos\\Kaggle_Notebooks\\Store_Sales\\data\\stores.csv\"\n",
    "oil_pth = r\"C:\\Users\\willi\\OneDrive\\Documentos\\5. Estudos\\Kaggle_Notebooks\\Store_Sales\\data\\oil.csv\"\n",
    "transactions_pth = r\"C:\\Users\\willi\\OneDrive\\Documentos\\5. Estudos\\Kaggle_Notebooks\\Store_Sales\\data\\transactions.csv\"\n",
    "holidays_events_pth = r\"C:\\Users\\willi\\OneDrive\\Documentos\\5. Estudos\\Kaggle_Notebooks\\Store_Sales\\data\\holidays_events.csv\""
   ]
  },
  {
   "cell_type": "code",
   "execution_count": 73,
   "metadata": {
    "collapsed": false,
    "pycharm": {
     "name": "#%%\n"
    }
   },
   "outputs": [
    {
     "data": {
      "text/plain": "            store_nbr      family  sales  onpromotion   city      state  \\\ndate                                                                      \n2013-01-01        1.0  AUTOMOTIVE    0.0          0.0  Quito  Pichincha   \n2013-01-01        1.0   BABY CARE    0.0          0.0  Quito  Pichincha   \n2013-01-01        1.0      BEAUTY    0.0          0.0  Quito  Pichincha   \n2013-01-01        1.0   BEVERAGES    0.0          0.0  Quito  Pichincha   \n2013-01-01        1.0       BOOKS    0.0          0.0  Quito  Pichincha   \n...               ...         ...    ...          ...    ...        ...   \n2017-12-22        NaN         NaN    NaN          NaN    NaN        NaN   \n2017-12-23        NaN         NaN    NaN          NaN    NaN        NaN   \n2017-12-24        NaN         NaN    NaN          NaN    NaN        NaN   \n2017-12-25        NaN         NaN    NaN          NaN    NaN        NaN   \n2017-12-26        NaN         NaN    NaN          NaN    NaN        NaN   \n\n           type_x  cluster  transactions      type_y    locale locale_name  \\\ndate                                                                         \n2013-01-01      D     13.0           NaN     Holiday  National     Ecuador   \n2013-01-01      D     13.0           NaN     Holiday  National     Ecuador   \n2013-01-01      D     13.0           NaN     Holiday  National     Ecuador   \n2013-01-01      D     13.0           NaN     Holiday  National     Ecuador   \n2013-01-01      D     13.0           NaN     Holiday  National     Ecuador   \n...           ...      ...           ...         ...       ...         ...   \n2017-12-22    NaN      NaN           NaN  Additional  National     Ecuador   \n2017-12-23    NaN      NaN           NaN  Additional  National     Ecuador   \n2017-12-24    NaN      NaN           NaN  Additional  National     Ecuador   \n2017-12-25    NaN      NaN           NaN     Holiday  National     Ecuador   \n2017-12-26    NaN      NaN           NaN  Additional  National     Ecuador   \n\n                   description transferred  \ndate                                        \n2013-01-01  Primer dia del ano       False  \n2013-01-01  Primer dia del ano       False  \n2013-01-01  Primer dia del ano       False  \n2013-01-01  Primer dia del ano       False  \n2013-01-01  Primer dia del ano       False  \n...                        ...         ...  \n2017-12-22           Navidad-3       False  \n2017-12-23           Navidad-2       False  \n2017-12-24           Navidad-1       False  \n2017-12-25             Navidad       False  \n2017-12-26           Navidad+1       False  \n\n[3054416 rows x 14 columns]",
      "text/html": "<div>\n<style scoped>\n    .dataframe tbody tr th:only-of-type {\n        vertical-align: middle;\n    }\n\n    .dataframe tbody tr th {\n        vertical-align: top;\n    }\n\n    .dataframe thead th {\n        text-align: right;\n    }\n</style>\n<table border=\"1\" class=\"dataframe\">\n  <thead>\n    <tr style=\"text-align: right;\">\n      <th></th>\n      <th>store_nbr</th>\n      <th>family</th>\n      <th>sales</th>\n      <th>onpromotion</th>\n      <th>city</th>\n      <th>state</th>\n      <th>type_x</th>\n      <th>cluster</th>\n      <th>transactions</th>\n      <th>type_y</th>\n      <th>locale</th>\n      <th>locale_name</th>\n      <th>description</th>\n      <th>transferred</th>\n    </tr>\n    <tr>\n      <th>date</th>\n      <th></th>\n      <th></th>\n      <th></th>\n      <th></th>\n      <th></th>\n      <th></th>\n      <th></th>\n      <th></th>\n      <th></th>\n      <th></th>\n      <th></th>\n      <th></th>\n      <th></th>\n      <th></th>\n    </tr>\n  </thead>\n  <tbody>\n    <tr>\n      <th>2013-01-01</th>\n      <td>1.0</td>\n      <td>AUTOMOTIVE</td>\n      <td>0.0</td>\n      <td>0.0</td>\n      <td>Quito</td>\n      <td>Pichincha</td>\n      <td>D</td>\n      <td>13.0</td>\n      <td>NaN</td>\n      <td>Holiday</td>\n      <td>National</td>\n      <td>Ecuador</td>\n      <td>Primer dia del ano</td>\n      <td>False</td>\n    </tr>\n    <tr>\n      <th>2013-01-01</th>\n      <td>1.0</td>\n      <td>BABY CARE</td>\n      <td>0.0</td>\n      <td>0.0</td>\n      <td>Quito</td>\n      <td>Pichincha</td>\n      <td>D</td>\n      <td>13.0</td>\n      <td>NaN</td>\n      <td>Holiday</td>\n      <td>National</td>\n      <td>Ecuador</td>\n      <td>Primer dia del ano</td>\n      <td>False</td>\n    </tr>\n    <tr>\n      <th>2013-01-01</th>\n      <td>1.0</td>\n      <td>BEAUTY</td>\n      <td>0.0</td>\n      <td>0.0</td>\n      <td>Quito</td>\n      <td>Pichincha</td>\n      <td>D</td>\n      <td>13.0</td>\n      <td>NaN</td>\n      <td>Holiday</td>\n      <td>National</td>\n      <td>Ecuador</td>\n      <td>Primer dia del ano</td>\n      <td>False</td>\n    </tr>\n    <tr>\n      <th>2013-01-01</th>\n      <td>1.0</td>\n      <td>BEVERAGES</td>\n      <td>0.0</td>\n      <td>0.0</td>\n      <td>Quito</td>\n      <td>Pichincha</td>\n      <td>D</td>\n      <td>13.0</td>\n      <td>NaN</td>\n      <td>Holiday</td>\n      <td>National</td>\n      <td>Ecuador</td>\n      <td>Primer dia del ano</td>\n      <td>False</td>\n    </tr>\n    <tr>\n      <th>2013-01-01</th>\n      <td>1.0</td>\n      <td>BOOKS</td>\n      <td>0.0</td>\n      <td>0.0</td>\n      <td>Quito</td>\n      <td>Pichincha</td>\n      <td>D</td>\n      <td>13.0</td>\n      <td>NaN</td>\n      <td>Holiday</td>\n      <td>National</td>\n      <td>Ecuador</td>\n      <td>Primer dia del ano</td>\n      <td>False</td>\n    </tr>\n    <tr>\n      <th>...</th>\n      <td>...</td>\n      <td>...</td>\n      <td>...</td>\n      <td>...</td>\n      <td>...</td>\n      <td>...</td>\n      <td>...</td>\n      <td>...</td>\n      <td>...</td>\n      <td>...</td>\n      <td>...</td>\n      <td>...</td>\n      <td>...</td>\n      <td>...</td>\n    </tr>\n    <tr>\n      <th>2017-12-22</th>\n      <td>NaN</td>\n      <td>NaN</td>\n      <td>NaN</td>\n      <td>NaN</td>\n      <td>NaN</td>\n      <td>NaN</td>\n      <td>NaN</td>\n      <td>NaN</td>\n      <td>NaN</td>\n      <td>Additional</td>\n      <td>National</td>\n      <td>Ecuador</td>\n      <td>Navidad-3</td>\n      <td>False</td>\n    </tr>\n    <tr>\n      <th>2017-12-23</th>\n      <td>NaN</td>\n      <td>NaN</td>\n      <td>NaN</td>\n      <td>NaN</td>\n      <td>NaN</td>\n      <td>NaN</td>\n      <td>NaN</td>\n      <td>NaN</td>\n      <td>NaN</td>\n      <td>Additional</td>\n      <td>National</td>\n      <td>Ecuador</td>\n      <td>Navidad-2</td>\n      <td>False</td>\n    </tr>\n    <tr>\n      <th>2017-12-24</th>\n      <td>NaN</td>\n      <td>NaN</td>\n      <td>NaN</td>\n      <td>NaN</td>\n      <td>NaN</td>\n      <td>NaN</td>\n      <td>NaN</td>\n      <td>NaN</td>\n      <td>NaN</td>\n      <td>Additional</td>\n      <td>National</td>\n      <td>Ecuador</td>\n      <td>Navidad-1</td>\n      <td>False</td>\n    </tr>\n    <tr>\n      <th>2017-12-25</th>\n      <td>NaN</td>\n      <td>NaN</td>\n      <td>NaN</td>\n      <td>NaN</td>\n      <td>NaN</td>\n      <td>NaN</td>\n      <td>NaN</td>\n      <td>NaN</td>\n      <td>NaN</td>\n      <td>Holiday</td>\n      <td>National</td>\n      <td>Ecuador</td>\n      <td>Navidad</td>\n      <td>False</td>\n    </tr>\n    <tr>\n      <th>2017-12-26</th>\n      <td>NaN</td>\n      <td>NaN</td>\n      <td>NaN</td>\n      <td>NaN</td>\n      <td>NaN</td>\n      <td>NaN</td>\n      <td>NaN</td>\n      <td>NaN</td>\n      <td>NaN</td>\n      <td>Additional</td>\n      <td>National</td>\n      <td>Ecuador</td>\n      <td>Navidad+1</td>\n      <td>False</td>\n    </tr>\n  </tbody>\n</table>\n<p>3054416 rows × 14 columns</p>\n</div>"
     },
     "execution_count": 73,
     "metadata": {},
     "output_type": "execute_result"
    }
   ],
   "source": [
    "# Datasets\n",
    "train = pd.read_csv(train_pth)\n",
    "stores = pd.read_csv(stores_pth)\n",
    "oil = pd.read_csv(oil_pth)\n",
    "events = pd.read_csv(holidays_events_pth)\n",
    "transactions = pd.read_csv(transactions_pth)\n",
    "\n",
    "# Merge train -  stores - transactions\n",
    "df = pd.merge(train,stores,on='store_nbr')\n",
    "df = pd.merge_ordered(df, transactions, on=['date', 'store_nbr'])\n",
    "\n",
    "# Merge DataFrame - Events\n",
    "df = pd.merge(df, events, on=['date'], how='outer')\n",
    "df.dropna(how='all', inplace=True)\n",
    "\n",
    "# Create a Data Index\n",
    "df.drop('id', axis=1, inplace=True)\n",
    "df.set_index('date')"
   ]
  },
  {
   "cell_type": "code",
   "execution_count": 73,
   "outputs": [],
   "source": [],
   "metadata": {
    "collapsed": false,
    "pycharm": {
     "name": "#%%\n"
    }
   }
  }
 ],
 "metadata": {
  "kernelspec": {
   "display_name": "Python 3",
   "language": "python",
   "name": "python3"
  },
  "language_info": {
   "codemirror_mode": {
    "name": "ipython",
    "version": 3
   },
   "file_extension": ".py",
   "mimetype": "text/x-python",
   "name": "python",
   "nbconvert_exporter": "python",
   "pygments_lexer": "ipython3",
   "version": "3.9.5"
  }
 },
 "nbformat": 4,
 "nbformat_minor": 0
}